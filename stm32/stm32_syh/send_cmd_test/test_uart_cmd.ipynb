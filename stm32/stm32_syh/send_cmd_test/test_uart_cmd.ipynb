{
 "cells": [
  {
   "cell_type": "code",
   "execution_count": 116,
   "metadata": {},
   "outputs": [
    {
     "name": "stdout",
     "output_type": "stream",
     "text": [
      "/dev/ttyUSB0\n"
     ]
    }
   ],
   "source": [
    "import serial\n",
    "\n",
    "ser = serial.Serial('/dev/ttyUSB0', 115200)\n",
    "print(ser.name)\n"
   ]
  },
  {
   "cell_type": "code",
   "execution_count": 117,
   "metadata": {},
   "outputs": [],
   "source": [
    "def read(size=1, timeout=None) :\n",
    "    ser.timeout = timeout\n",
    "    readed = ser.read(size)\n",
    "    return readed"
   ]
  },
  {
   "cell_type": "code",
   "execution_count": 119,
   "metadata": {},
   "outputs": [
    {
     "name": "stdout",
     "output_type": "stream",
     "text": [
      "b'\\xfa\\xfe\\x02\\xff\\x9c\\xff\\x9c\\x00d\\x00d\\x00\\n\\n\\xfa\\xfd'\n"
     ]
    },
    {
     "data": {
      "text/plain": [
       "16"
      ]
     },
     "execution_count": 119,
     "metadata": {},
     "output_type": "execute_result"
    }
   ],
   "source": [
    "import numpy as np\n",
    "\n",
    "motor_f_l = (np.int16)(-100)\n",
    "motor_f_r = (np.int16)(-100)\n",
    "motor_r_l = (np.int16)(100)\n",
    "motor_r_r = (np.int16)(100)\n",
    "# send motor command\n",
    "# response = 0\n",
    "command = [0xfa, 0xfe, 2, 0, 0, 0, 0, 0, 0, 0, 0, 0 , 10, 0, 0xfa, 0xfd]\n",
    "\n",
    "\n",
    "command[3] = (np.uint8)(motor_f_l >> 8)\n",
    "command[4] = (np.uint8)(motor_f_l)\n",
    "command[5] = (np.uint8)(motor_f_r >> 8)\n",
    "command[6] = (np.uint8)(motor_f_r)\n",
    "command[7] = (np.uint8)(motor_r_l >> 8)\n",
    "command[8] = (np.uint8)(motor_r_l)\n",
    "command[9] = (np.uint8)(motor_r_r >> 8)\n",
    "command[10] = (np.uint8)(motor_r_r)\n",
    "command[13] = (np.uint8)(sum(command[2:13]))\n",
    "\n",
    "print(bytes(command))\n",
    "\n",
    "ser.write(bytes(command))"
   ]
  },
  {
   "cell_type": "code",
   "execution_count": 118,
   "metadata": {},
   "outputs": [
    {
     "name": "stdout",
     "output_type": "stream",
     "text": [
      "b'\\xfa\\xfe\\x92\\x002\\xff\\xce\\x002\\x002\\x01\\n\\xee\\xfa\\xfd'\n"
     ]
    }
   ],
   "source": [
    "import numpy as np\n",
    "\n",
    "motor_f_l = (np.int16)(100)\n",
    "motor_f_r = (np.int16)(-100)\n",
    "motor_r_l = (np.int16)(100)\n",
    "motor_r_r = (np.int16)(100)\n",
    "# send motor command\n",
    "# response = 1\n",
    "command = [0xfa, 0xfe, 2, 0, 0, 0, 0, 0, 0, 0, 0, 1 , 10, 0, 0xfa, 0xfd]\n",
    "\n",
    "command[3] = (np.uint8)(motor_f_l >> 8)\n",
    "command[4] = (np.uint8)(motor_f_l)\n",
    "command[5] = (np.uint8)(motor_f_r >> 8)\n",
    "command[6] = (np.uint8)(motor_f_r)\n",
    "command[7] = (np.uint8)(motor_r_l >> 8)\n",
    "command[8] = (np.uint8)(motor_r_l)\n",
    "command[9] = (np.uint8)(motor_r_r >> 8)\n",
    "command[10] = (np.uint8)(motor_r_r)\n",
    "command[13] = (np.uint8)(sum(command[2:13]))\n",
    "\n",
    "command = bytes(command)\n",
    "ser.write(command)\n",
    "\n",
    "print(read(size = 23, timeout = 1))\n",
    "\n"
   ]
  },
  {
   "cell_type": "code",
   "execution_count": 121,
   "metadata": {},
   "outputs": [
    {
     "name": "stdout",
     "output_type": "stream",
     "text": [
      "b'\\xfa\\xfe\\x92\\xff\\xff\\xc9\\xa9\\xff\\xff\\x86(\\x00\\x00\\x9a\\x86\\x00\\x00\\x976\\x11\\x1a\\xfa\\xfd'\n"
     ]
    }
   ],
   "source": [
    "#request status\n",
    "\n",
    "command = b\"\\xfa\\xfe\\x03\\x01\\x04\\xfa\\xfd\"\n",
    "ser.write(command)\n",
    "\n",
    "incomming = read(size = 23, timeout = 1)\n",
    "print(incomming)"
   ]
  },
  {
   "cell_type": "code",
   "execution_count": 122,
   "metadata": {},
   "outputs": [],
   "source": [
    "ser.close()"
   ]
  }
 ],
 "metadata": {
  "kernelspec": {
   "display_name": "Python 3",
   "language": "python",
   "name": "python3"
  },
  "language_info": {
   "codemirror_mode": {
    "name": "ipython",
    "version": 3
   },
   "file_extension": ".py",
   "mimetype": "text/x-python",
   "name": "python",
   "nbconvert_exporter": "python",
   "pygments_lexer": "ipython3",
   "version": "3.10.6"
  },
  "orig_nbformat": 4
 },
 "nbformat": 4,
 "nbformat_minor": 2
}
